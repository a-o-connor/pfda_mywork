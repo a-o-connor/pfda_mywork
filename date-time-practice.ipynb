{
 "cells": [
  {
   "cell_type": "code",
   "execution_count": 20,
   "metadata": {},
   "outputs": [],
   "source": [
    "import datetime as datetime"
   ]
  },
  {
   "cell_type": "code",
   "execution_count": 22,
   "metadata": {},
   "outputs": [
    {
     "name": "stdout",
     "output_type": "stream",
     "text": [
      "13:12:00\n"
     ]
    }
   ],
   "source": [
    "t_hours_minutes = datetime.time(13, 12)\n",
    "print(t_hours_minutes)"
   ]
  },
  {
   "cell_type": "code",
   "execution_count": 23,
   "metadata": {},
   "outputs": [
    {
     "name": "stdout",
     "output_type": "stream",
     "text": [
      "13:22:31\n"
     ]
    }
   ],
   "source": [
    "t_hours_minutes_seconds = datetime.time(13,22,31)\n",
    "print(t_hours_minutes_seconds)"
   ]
  },
  {
   "cell_type": "code",
   "execution_count": 24,
   "metadata": {},
   "outputs": [
    {
     "data": {
      "text/plain": [
       "13"
      ]
     },
     "execution_count": 24,
     "metadata": {},
     "output_type": "execute_result"
    }
   ],
   "source": [
    "t_hours_minutes_seconds.hour"
   ]
  },
  {
   "cell_type": "code",
   "execution_count": 25,
   "metadata": {},
   "outputs": [
    {
     "data": {
      "text/plain": [
       "0"
      ]
     },
     "execution_count": 25,
     "metadata": {},
     "output_type": "execute_result"
    }
   ],
   "source": [
    "t_hours_minutes_seconds.microsecond"
   ]
  },
  {
   "cell_type": "code",
   "execution_count": 26,
   "metadata": {},
   "outputs": [
    {
     "name": "stdout",
     "output_type": "stream",
     "text": [
      "00:29:00.000005 00:29:00.000005\n"
     ]
    }
   ],
   "source": [
    "#Create a time object with 5 microseconds and 39 minutes.\n",
    "\n",
    "t = datetime.time(microsecond=5, minute=29)\n",
    "\n",
    "t2 = datetime.time(0, 29,0,5)\n",
    "print(t, t2)"
   ]
  },
  {
   "cell_type": "markdown",
   "metadata": {},
   "source": [
    "# DATES"
   ]
  },
  {
   "cell_type": "code",
   "execution_count": 27,
   "metadata": {},
   "outputs": [
    {
     "data": {
      "text/plain": [
       "datetime.date(2024, 11, 12)"
      ]
     },
     "execution_count": 27,
     "metadata": {},
     "output_type": "execute_result"
    }
   ],
   "source": [
    "datetime.date.today()"
   ]
  },
  {
   "cell_type": "code",
   "execution_count": 28,
   "metadata": {},
   "outputs": [
    {
     "data": {
      "text/plain": [
       "2024"
      ]
     },
     "execution_count": 28,
     "metadata": {},
     "output_type": "execute_result"
    }
   ],
   "source": [
    "datetime.date.today().year"
   ]
  },
  {
   "cell_type": "code",
   "execution_count": 9,
   "metadata": {},
   "outputs": [
    {
     "data": {
      "text/plain": [
       "12"
      ]
     },
     "execution_count": 9,
     "metadata": {},
     "output_type": "execute_result"
    }
   ],
   "source": [
    "datetime.date.today().day"
   ]
  },
  {
   "cell_type": "code",
   "execution_count": 10,
   "metadata": {},
   "outputs": [
    {
     "name": "stdout",
     "output_type": "stream",
     "text": [
      "today: \n",
      "\t 2024-11-12\n",
      "ctime: \n",
      "\t Tue Nov 12 00:00:00 2024\n",
      "tuple: \n",
      "\t time.struct_time(tm_year=2024, tm_mon=11, tm_mday=12, tm_hour=0, tm_min=0, tm_sec=0, tm_wday=1, tm_yday=317, tm_isdst=-1)\n",
      "ordinal (useful for getting no. of days between two dates!): \n",
      "\t 739202\n",
      "Year: \n",
      "\t 2024\n",
      "Mon: \n",
      "\t 11\n",
      "Day: \n",
      "\t 12\n"
     ]
    }
   ],
   "source": [
    "today = datetime.date.today()\n",
    "print (f'today: \\n\\t {today}')\n",
    "print (f'ctime: \\n\\t {today.ctime()}')\n",
    "print (f'tuple: \\n\\t {today.timetuple()}')\n",
    "print (f'ordinal (useful for getting no. of days between two dates!): \\n\\t {today.toordinal()}') # no. of days since 01 Jan year 00\n",
    "print (f'Year: \\n\\t {today.year}')\n",
    "print (f'Mon: \\n\\t {today.month}')\n",
    "print (f'Day: \\n\\t {today.day}')"
   ]
  },
  {
   "cell_type": "code",
   "execution_count": 11,
   "metadata": {},
   "outputs": [
    {
     "name": "stdout",
     "output_type": "stream",
     "text": [
      "2023-01-05 00:00:00\n"
     ]
    }
   ],
   "source": [
    "#Build  a date object with year 2023 and day 5\n",
    "\n",
    "d = datetime.datetime(day=5, month = 1, year=2023)\n",
    "print(d)"
   ]
  },
  {
   "cell_type": "code",
   "execution_count": 12,
   "metadata": {},
   "outputs": [],
   "source": [
    "import time"
   ]
  },
  {
   "cell_type": "code",
   "execution_count": 13,
   "metadata": {},
   "outputs": [
    {
     "name": "stdout",
     "output_type": "stream",
     "text": [
      "Yesterday was 2024-11-11\n"
     ]
    }
   ],
   "source": [
    "#timedeltas are differences between datetimes \n",
    "#so they are used to represent a duration \n",
    "today = datetime.date.today()\n",
    "timedelta_one_day = datetime.timedelta(days = 1)\n",
    "print(f\"Yesterday was {today-timedelta_one_day}\")"
   ]
  },
  {
   "cell_type": "code",
   "execution_count": 14,
   "metadata": {},
   "outputs": [
    {
     "data": {
      "text/plain": [
       "'IN five weeks it will be 2024-12-17'"
      ]
     },
     "execution_count": 14,
     "metadata": {},
     "output_type": "execute_result"
    }
   ],
   "source": [
    "five_weeks_time = today + datetime.timedelta(weeks=5)\n",
    "(f\"IN five weeks it will be {five_weeks_time}\")\n"
   ]
  },
  {
   "cell_type": "code",
   "execution_count": 15,
   "metadata": {},
   "outputs": [
    {
     "name": "stdout",
     "output_type": "stream",
     "text": [
      "current date and time, in current timezone, is 2024-11-12 14:46:19.011650\n"
     ]
    }
   ],
   "source": [
    "print(f\"current date and time, in current timezone, is {datetime.datetime.now()}\")"
   ]
  },
  {
   "cell_type": "code",
   "execution_count": 16,
   "metadata": {},
   "outputs": [
    {
     "data": {
      "text/plain": [
       "'Tue'"
      ]
     },
     "execution_count": 16,
     "metadata": {},
     "output_type": "execute_result"
    }
   ],
   "source": [
    "#Formatting datetime objects\n",
    "\n",
    "datetime.datetime.now().strftime(\"%a\")"
   ]
  },
  {
   "cell_type": "code",
   "execution_count": 17,
   "metadata": {},
   "outputs": [
    {
     "data": {
      "text/plain": [
       "datetime.datetime(1997, 8, 26, 0, 0)"
      ]
     },
     "execution_count": 17,
     "metadata": {},
     "output_type": "execute_result"
    }
   ],
   "source": [
    "datetime.datetime.strptime(\"19970826\", \"%Y%m%d\")"
   ]
  },
  {
   "cell_type": "code",
   "execution_count": 18,
   "metadata": {},
   "outputs": [
    {
     "data": {
      "text/plain": [
       "datetime.timedelta(days=9940)"
      ]
     },
     "execution_count": 18,
     "metadata": {},
     "output_type": "execute_result"
    }
   ],
   "source": [
    "day_one = 19970826\n",
    "today = datetime.datetime.now().strftime(\"%Y%m%d\")\n",
    "format = \"%Y%m%d\"\n",
    "\n",
    "def number_days_alive(day_one, today, format):\n",
    "    today_fmt = datetime.datetime.strptime(str(today), format)\n",
    "    day_one_fmt = datetime.datetime.strptime(str(day_one), format)\n",
    "    days_between = (today_fmt-day_one_fmt)\n",
    "    return days_between\n",
    "\n",
    "\n",
    "number_days_alive(day_one, today, format)\n",
    "\n"
   ]
  }
 ],
 "metadata": {
  "kernelspec": {
   "display_name": "base",
   "language": "python",
   "name": "python3"
  },
  "language_info": {
   "codemirror_mode": {
    "name": "ipython",
    "version": 3
   },
   "file_extension": ".py",
   "mimetype": "text/x-python",
   "name": "python",
   "nbconvert_exporter": "python",
   "pygments_lexer": "ipython3",
   "version": "3.12.4"
  }
 },
 "nbformat": 4,
 "nbformat_minor": 2
}
